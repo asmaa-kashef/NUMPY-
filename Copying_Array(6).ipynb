{
 "cells": [
  {
   "cell_type": "code",
   "execution_count": 1,
   "id": "4fd4a2d2",
   "metadata": {},
   "outputs": [],
   "source": [
    "import numpy as np "
   ]
  },
  {
   "cell_type": "code",
   "execution_count": 2,
   "id": "75457bfa",
   "metadata": {},
   "outputs": [
    {
     "data": {
      "text/plain": [
       "array([[12,  5,  2,  4],\n",
       "       [ 7,  6,  8,  8],\n",
       "       [ 1,  6,  7,  7]])"
      ]
     },
     "execution_count": 2,
     "metadata": {},
     "output_type": "execute_result"
    }
   ],
   "source": [
    "x=np.array([[12,5,2,4],[7,6,8,8],[1,6,7,7]])\n",
    "x"
   ]
  },
  {
   "cell_type": "code",
   "execution_count": 3,
   "id": "82705998",
   "metadata": {},
   "outputs": [],
   "source": [
    "x_sub=x[:2,:2]"
   ]
  },
  {
   "cell_type": "code",
   "execution_count": 4,
   "id": "5e5e2fbb",
   "metadata": {},
   "outputs": [
    {
     "data": {
      "text/plain": [
       "array([[12,  5],\n",
       "       [ 7,  6]])"
      ]
     },
     "execution_count": 4,
     "metadata": {},
     "output_type": "execute_result"
    }
   ],
   "source": [
    "x_sub"
   ]
  },
  {
   "cell_type": "code",
   "execution_count": 5,
   "id": "82d0d4e7",
   "metadata": {},
   "outputs": [],
   "source": [
    "x_sub[0,0]=99"
   ]
  },
  {
   "cell_type": "code",
   "execution_count": 6,
   "id": "e98101df",
   "metadata": {},
   "outputs": [
    {
     "data": {
      "text/plain": [
       "array([[99,  5],\n",
       "       [ 7,  6]])"
      ]
     },
     "execution_count": 6,
     "metadata": {},
     "output_type": "execute_result"
    }
   ],
   "source": [
    "x_sub"
   ]
  },
  {
   "cell_type": "code",
   "execution_count": 7,
   "id": "75619a2c",
   "metadata": {},
   "outputs": [],
   "source": [
    "x_sub2=x[:2,:2].copy()"
   ]
  },
  {
   "cell_type": "code",
   "execution_count": 9,
   "id": "18d10613",
   "metadata": {},
   "outputs": [
    {
     "data": {
      "text/plain": [
       "array([[99,  5],\n",
       "       [ 7,  6]])"
      ]
     },
     "execution_count": 9,
     "metadata": {},
     "output_type": "execute_result"
    }
   ],
   "source": [
    "x_sub2"
   ]
  },
  {
   "cell_type": "code",
   "execution_count": 10,
   "id": "019edc85",
   "metadata": {},
   "outputs": [],
   "source": [
    "x_sub2[0,0]=15"
   ]
  },
  {
   "cell_type": "code",
   "execution_count": 11,
   "id": "4130bdd3",
   "metadata": {},
   "outputs": [
    {
     "data": {
      "text/plain": [
       "array([[15,  5],\n",
       "       [ 7,  6]])"
      ]
     },
     "execution_count": 11,
     "metadata": {},
     "output_type": "execute_result"
    }
   ],
   "source": [
    "x_sub2"
   ]
  },
  {
   "cell_type": "code",
   "execution_count": 12,
   "id": "c974997b",
   "metadata": {},
   "outputs": [
    {
     "data": {
      "text/plain": [
       "array([[99,  5,  2,  4],\n",
       "       [ 7,  6,  8,  8],\n",
       "       [ 1,  6,  7,  7]])"
      ]
     },
     "execution_count": 12,
     "metadata": {},
     "output_type": "execute_result"
    }
   ],
   "source": [
    "x"
   ]
  },
  {
   "cell_type": "code",
   "execution_count": null,
   "id": "ca03f562",
   "metadata": {},
   "outputs": [],
   "source": []
  }
 ],
 "metadata": {
  "kernelspec": {
   "display_name": "Python 3",
   "language": "python",
   "name": "python3"
  },
  "language_info": {
   "codemirror_mode": {
    "name": "ipython",
    "version": 3
   },
   "file_extension": ".py",
   "mimetype": "text/x-python",
   "name": "python",
   "nbconvert_exporter": "python",
   "pygments_lexer": "ipython3",
   "version": "3.8.8"
  }
 },
 "nbformat": 4,
 "nbformat_minor": 5
}
