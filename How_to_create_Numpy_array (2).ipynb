{
 "cells": [
  {
   "cell_type": "code",
   "execution_count": 1,
   "id": "303869aa",
   "metadata": {},
   "outputs": [],
   "source": [
    "import numpy as np"
   ]
  },
  {
   "cell_type": "markdown",
   "id": "3ccacf36",
   "metadata": {},
   "source": [
    "# How to create numpy arrays ?"
   ]
  },
  {
   "cell_type": "markdown",
   "id": "d87a37ac",
   "metadata": {},
   "source": [
    "# from python lists "
   ]
  },
  {
   "cell_type": "code",
   "execution_count": 4,
   "id": "c52f54de",
   "metadata": {},
   "outputs": [],
   "source": [
    "myarray=np.array([1,4,2,5,3])"
   ]
  },
  {
   "cell_type": "code",
   "execution_count": 5,
   "id": "16526e40",
   "metadata": {},
   "outputs": [
    {
     "data": {
      "text/plain": [
       "array([1, 4, 2, 5, 3])"
      ]
     },
     "execution_count": 5,
     "metadata": {},
     "output_type": "execute_result"
    }
   ],
   "source": [
    "myarray"
   ]
  },
  {
   "cell_type": "code",
   "execution_count": 6,
   "id": "14174ac6",
   "metadata": {},
   "outputs": [
    {
     "data": {
      "text/plain": [
       "array([3.4, 5. , 6. , 7. , 8. ])"
      ]
     },
     "execution_count": 6,
     "metadata": {},
     "output_type": "execute_result"
    }
   ],
   "source": [
    "np.array([3.4,5,6,7,8]) #all elements are considered of the same type"
   ]
  },
  {
   "cell_type": "code",
   "execution_count": 14,
   "id": "63e45800",
   "metadata": {},
   "outputs": [
    {
     "data": {
      "text/plain": [
       "array([1., 2., 3., 4.], dtype=float32)"
      ]
     },
     "execution_count": 14,
     "metadata": {},
     "output_type": "execute_result"
    }
   ],
   "source": [
    "np.array([1,2,3,4], dtype='float32') #to explicity set the data type"
   ]
  },
  {
   "cell_type": "markdown",
   "id": "2fdecc6e",
   "metadata": {},
   "source": [
    "# How to create array from scratch?"
   ]
  },
  {
   "cell_type": "code",
   "execution_count": 16,
   "id": "d9617870",
   "metadata": {},
   "outputs": [
    {
     "data": {
      "text/plain": [
       "array([0, 0, 0, 0, 0, 0, 0, 0, 0, 0])"
      ]
     },
     "execution_count": 16,
     "metadata": {},
     "output_type": "execute_result"
    }
   ],
   "source": [
    "#Create a length-10 integer array filled with zeros\n",
    "# size of array=10\n",
    "#type of array =int\n",
    "np.zeros(10 ,dtype=int)"
   ]
  },
  {
   "cell_type": "code",
   "execution_count": 19,
   "id": "ca592477",
   "metadata": {},
   "outputs": [
    {
     "data": {
      "text/plain": [
       "array([[0, 0, 0],\n",
       "       [0, 0, 0],\n",
       "       [0, 0, 0],\n",
       "       [0, 0, 0],\n",
       "       [0, 0, 0],\n",
       "       [0, 0, 0],\n",
       "       [0, 0, 0],\n",
       "       [0, 0, 0],\n",
       "       [0, 0, 0],\n",
       "       [0, 0, 0]])"
      ]
     },
     "execution_count": 19,
     "metadata": {},
     "output_type": "execute_result"
    }
   ],
   "source": [
    "np.zeros((10,3) ,dtype=int)"
   ]
  },
  {
   "cell_type": "code",
   "execution_count": 18,
   "id": "efda182d",
   "metadata": {},
   "outputs": [
    {
     "data": {
      "text/plain": [
       "array([[1., 1., 1., 1., 1.],\n",
       "       [1., 1., 1., 1., 1.],\n",
       "       [1., 1., 1., 1., 1.]])"
      ]
     },
     "execution_count": 18,
     "metadata": {},
     "output_type": "execute_result"
    }
   ],
   "source": [
    "# create a3x5 floating-point array filled with 1s\n",
    "#number of rows=3\n",
    "#number of columns=5\n",
    "np.ones((3,5) ,dtype=float)"
   ]
  },
  {
   "cell_type": "code",
   "execution_count": 22,
   "id": "56db8249",
   "metadata": {},
   "outputs": [
    {
     "data": {
      "text/plain": [
       "array([[[1., 1., 1., 1., 1.],\n",
       "        [1., 1., 1., 1., 1.]],\n",
       "\n",
       "       [[1., 1., 1., 1., 1.],\n",
       "        [1., 1., 1., 1., 1.]],\n",
       "\n",
       "       [[1., 1., 1., 1., 1.],\n",
       "        [1., 1., 1., 1., 1.]]])"
      ]
     },
     "execution_count": 22,
     "metadata": {},
     "output_type": "execute_result"
    }
   ],
   "source": [
    "np.ones((3,2,5) ,dtype=float)\n",
    "#number of rows =2\n",
    "#number of column=5\n",
    "#number of matrics=3"
   ]
  },
  {
   "cell_type": "markdown",
   "id": "8dd28f3e",
   "metadata": {},
   "source": [
    "## Data Types"
   ]
  },
  {
   "cell_type": "markdown",
   "id": "bde9cbc1",
   "metadata": {},
   "source": [
    "# i will search on the internet about datatypes"
   ]
  },
  {
   "cell_type": "markdown",
   "id": "d6e29d68",
   "metadata": {},
   "source": [
    "# to get documentation for any thing shift+tab\n",
    "\n",
    "# in the document i found [ ] and this meaning it is optional with out practice meaning Mandatory"
   ]
  },
  {
   "cell_type": "code",
   "execution_count": 23,
   "id": "48e822cb",
   "metadata": {},
   "outputs": [
    {
     "data": {
      "text/plain": [
       "array([[2.75, 2.75, 2.75],\n",
       "       [2.75, 2.75, 2.75]])"
      ]
     },
     "execution_count": 23,
     "metadata": {},
     "output_type": "execute_result"
    }
   ],
   "source": [
    "#now i will create array all elements the same number\n",
    "np.full((2,3),2.75)"
   ]
  },
  {
   "cell_type": "code",
   "execution_count": 24,
   "id": "4e8dbc9f",
   "metadata": {},
   "outputs": [
    {
     "data": {
      "text/plain": [
       "array([ 0,  2,  4,  6,  8, 10, 12, 14, 16, 18])"
      ]
     },
     "execution_count": 24,
     "metadata": {},
     "output_type": "execute_result"
    }
   ],
   "source": [
    "# now will create array filled with linear squence (with specific range)\n",
    "#starting at 0,ending at 20 ,stepping by 2\n",
    "\n",
    "np.arange(0,20,2)"
   ]
  },
  {
   "cell_type": "code",
   "execution_count": 26,
   "id": "0a896aff",
   "metadata": {},
   "outputs": [
    {
     "data": {
      "text/plain": [
       "array([0, 1, 2, 3, 4, 5, 6, 7, 8, 9])"
      ]
     },
     "execution_count": 26,
     "metadata": {},
     "output_type": "execute_result"
    }
   ],
   "source": [
    "#end -1\n",
    "np.arange(0,10)"
   ]
  },
  {
   "cell_type": "code",
   "execution_count": 27,
   "id": "8d5750be",
   "metadata": {},
   "outputs": [
    {
     "data": {
      "text/plain": [
       "array([[0.84190032, 0.41918816, 0.40681253],\n",
       "       [0.78860612, 0.54881363, 0.57609776],\n",
       "       [0.12293931, 0.53000372, 0.39648867]])"
      ]
     },
     "execution_count": 27,
     "metadata": {},
     "output_type": "execute_result"
    }
   ],
   "source": [
    "#create a 3x3 array of uniformly distributed \n",
    "#random values between 0,1\n",
    "\n",
    "np.random.random((3,3))"
   ]
  },
  {
   "cell_type": "code",
   "execution_count": 28,
   "id": "78f9d76a",
   "metadata": {},
   "outputs": [
    {
     "data": {
      "text/plain": [
       "array([[3, 7, 4],\n",
       "       [5, 5, 1],\n",
       "       [3, 0, 9]])"
      ]
     },
     "execution_count": 28,
     "metadata": {},
     "output_type": "execute_result"
    }
   ],
   "source": [
    "#create a 3x3 array of random integers in the interval [0,10]\n",
    "np.random.randint(0,10,(3,3))"
   ]
  },
  {
   "cell_type": "code",
   "execution_count": 30,
   "id": "f53719a4",
   "metadata": {},
   "outputs": [
    {
     "data": {
      "text/plain": [
       "array([[1., 0., 0., 0., 0.],\n",
       "       [0., 1., 0., 0., 0.],\n",
       "       [0., 0., 1., 0., 0.],\n",
       "       [0., 0., 0., 1., 0.],\n",
       "       [0., 0., 0., 0., 1.]])"
      ]
     },
     "execution_count": 30,
     "metadata": {},
     "output_type": "execute_result"
    }
   ],
   "source": [
    "#create a 3x3 identity matrix\n",
    "#diagonal =1\n",
    "np.eye(5)"
   ]
  },
  {
   "cell_type": "code",
   "execution_count": 36,
   "id": "b42c83dc",
   "metadata": {},
   "outputs": [
    {
     "data": {
      "text/plain": [
       "array([[1., 1., 1., 1., 1.],\n",
       "       [1., 1., 1., 1., 1.],\n",
       "       [1., 1., 1., 1., 1.]])"
      ]
     },
     "execution_count": 36,
     "metadata": {},
     "output_type": "execute_result"
    }
   ],
   "source": [
    "#create an uninitialized array of three integres\n",
    "#the value will be what ever happen to already exist at that memory location\n",
    "\n",
    "np.empty((3,5))"
   ]
  },
  {
   "cell_type": "code",
   "execution_count": null,
   "id": "8d8794a4",
   "metadata": {},
   "outputs": [],
   "source": []
  }
 ],
 "metadata": {
  "kernelspec": {
   "display_name": "Python 3 (ipykernel)",
   "language": "python",
   "name": "python3"
  },
  "language_info": {
   "codemirror_mode": {
    "name": "ipython",
    "version": 3
   },
   "file_extension": ".py",
   "mimetype": "text/x-python",
   "name": "python",
   "nbconvert_exporter": "python",
   "pygments_lexer": "ipython3",
   "version": "3.9.12"
  }
 },
 "nbformat": 4,
 "nbformat_minor": 5
}
